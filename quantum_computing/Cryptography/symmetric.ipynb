{
 "cells": [
  {
   "cell_type": "code",
   "execution_count": 1,
   "metadata": {},
   "outputs": [],
   "source": [
    "# import the required crypto functions which will be demonstrated later\n",
    "from secretpy import Caesar\n",
    "from cryptography.hazmat.primitives.ciphers import Cipher, algorithms, modes\n",
    "from functools import reduce\n",
    "import numpy as np"
   ]
  },
  {
   "cell_type": "code",
   "execution_count": 2,
   "metadata": {},
   "outputs": [
    {
     "name": "stdout",
     "output_type": "stream",
     "text": [
      "\n",
      "Given plaintext: this is a strict top secret message for intended recipients only\n"
     ]
    }
   ],
   "source": [
    "# Set the plaintext we want to encrypt\n",
    "plaintext=u\"this is a strict top secret message for intended recipients only\"\n",
    "print(f\"\\nGiven plaintext: {plaintext}\")"
   ]
  },
  {
   "cell_type": "markdown",
   "metadata": {},
   "source": [
    "## Caesar shift cipher:"
   ]
  },
  {
   "cell_type": "code",
   "execution_count": 3,
   "metadata": {},
   "outputs": [
    {
     "name": "stdout",
     "output_type": "stream",
     "text": [
      "Caesar shift secret key: 5\n",
      "alphabet: ('a', 'b', 'c', 'd', 'e', 'f', 'g', 'h', 'i', 'j', 'k', 'l', 'm', 'n', 'o', 'p', 'q', 'r', 's', 't', 'u', 'v', 'w', 'x', 'y', 'z', ' ')\n"
     ]
    }
   ],
   "source": [
    "# initialize the required python object for doing Caesar shift encryption\n",
    "caesar_cipher = Caesar()\n",
    "\n",
    "# Define the shift, ie the key\n",
    "caesar_key = 5 \n",
    "print(f\"Caesar shift secret key: {caesar_key}\")\n",
    "\n",
    "# Define the alphabet\n",
    "alphabet=('a', 'b', 'c', 'd', 'e', 'f', 'g', 'h', 'i', 'j', 'k', 'l', 'm', 'n', 'o', 'p', 'q', 'r', 's', 't', 'u', 'v', 'w', 'x', 'y', 'z', ' ')\n",
    "print(f\"alphabet: {alphabet}\")"
   ]
  },
  {
   "cell_type": "markdown",
   "metadata": {},
   "source": [
    "#### Encrypt the plain text to get ciphertext for the Caesar cipher.\n"
   ]
  },
  {
   "cell_type": "code",
   "execution_count": 4,
   "metadata": {},
   "outputs": [
    {
     "name": "stdout",
     "output_type": "stream",
     "text": [
      "Encrypted caeser shift ciphertext: ymnxenxefexywnhyeytuexjhwjyerjxxfljektwensyjsijiewjhnunjsyxetsqc\n"
     ]
    }
   ],
   "source": [
    "caeser_ciphertext = caesar_cipher.encrypt(plaintext, caesar_key, alphabet)\n",
    "print(f\"Encrypted caeser shift ciphertext: {caeser_ciphertext}\")"
   ]
  },
  {
   "cell_type": "markdown",
   "metadata": {},
   "source": [
    "#### Decrypt the ciphertext back to the original plain text using the same key used for encryption.\n"
   ]
  },
  {
   "cell_type": "code",
   "execution_count": 5,
   "metadata": {},
   "outputs": [
    {
     "name": "stdout",
     "output_type": "stream",
     "text": [
      "Decrypted caeser shift plaintext: this is a strict top secret message for intended recipients only\n",
      "\n"
     ]
    }
   ],
   "source": [
    "caeser_plaintext = caesar_cipher.decrypt(caeser_ciphertext, caesar_key, alphabet)\n",
    "print(f\"Decrypted caeser shift plaintext: {caeser_plaintext}\\n\")"
   ]
  },
  {
   "cell_type": "markdown",
   "metadata": {},
   "source": [
    "## Advanced encryption standard (AES) cipher"
   ]
  },
  {
   "cell_type": "code",
   "execution_count": 6,
   "metadata": {},
   "outputs": [
    {
     "name": "stdout",
     "output_type": "stream",
     "text": [
      "AES secret key: sfpprziyenezxell\n"
     ]
    }
   ],
   "source": [
    "# lamba defines an inline function in this case that takes two values a,b with the resulting expression of a+b\n",
    "# reduce uses a two-argument function(above), and applies this to all the entries in the list (random alphabet characters) cumulatively\n",
    "aes_key = reduce(lambda a, b: a + b, [np.random.choice(alphabet) for i in range(16)])\n",
    "\n",
    "print(f'AES secret key: {aes_key}')"
   ]
  },
  {
   "cell_type": "code",
   "execution_count": 8,
   "metadata": {},
   "outputs": [
    {
     "name": "stdout",
     "output_type": "stream",
     "text": [
      "AES initialization vector: euledfnbuhsskobn\n"
     ]
    }
   ],
   "source": [
    "aes_initialization_vector = reduce(lambda a, b: a + b, [np.random.choice(alphabet) for i in range(16)])\n",
    "print(f\"AES initialization vector: {aes_initialization_vector}\")"
   ]
  },
  {
   "cell_type": "code",
   "execution_count": 9,
   "metadata": {},
   "outputs": [
    {
     "name": "stdout",
     "output_type": "stream",
     "text": [
      "Encrypted AES ciphertext: b'\\xe2\\xacH\\x0f3@\\x08\\x93\\xf7\\x19\\x8dR\\x83\\x1e\\xd7\\x1b\\xe5\\xb9\\x13\\x11\\xdbY@\\xfa\\xc5\\x1e\\xf7B\\xd84\\xb2\\x9d(\\xc0T\\x01\\x9f\\xae\\xaa\\xcf\\x85;T\\x81vI\\x81l\\xd6\\xacf\\xbcF\\xd1\\xdd\\x88B\\x1fT\\xcaIP\\xc8\\x8d'\n"
     ]
    }
   ],
   "source": [
    "# The encryptor is setup using the key & CBC. In both cases we need to convert the string (utf-8) into bytes\n",
    "sender_aes_cipher = Cipher(algorithms.AES(bytes(aes_key, 'utf-8')), modes.CBC(bytes(aes_initialization_vector, 'utf-8')))\n",
    "aes_encryptor = sender_aes_cipher.encryptor()\n",
    "\n",
    "# update can add text to encypt in chunks, and then finalize is needed to complete the encryption process\n",
    "aes_ciphertext = aes_encryptor.update(bytes(plaintext, 'utf-8')) + aes_encryptor.finalize()\n",
    "\n",
    "# Note the output is a string of bytes\n",
    "print(f\"Encrypted AES ciphertext: {aes_ciphertext}\")"
   ]
  },
  {
   "cell_type": "code",
   "execution_count": 10,
   "metadata": {},
   "outputs": [
    {
     "name": "stdout",
     "output_type": "stream",
     "text": [
      "Decrypted AES plaintext: this is a strict top secret message for intended recipients only\n"
     ]
    }
   ],
   "source": [
    "# Similar setup of AES to what we did for encryption, but this time, for decryption\n",
    "receiver_aes_cipher = Cipher(algorithms.AES(bytes(aes_key, 'utf-8')), modes.CBC(bytes(aes_initialization_vector, 'utf-8')))\n",
    "aes_decryptor = receiver_aes_cipher.decryptor()\n",
    "\n",
    "# Do the decryption\n",
    "aes_plaintext_bytes = aes_decryptor.update(aes_ciphertext) + aes_decryptor.finalize()\n",
    "\n",
    "# convert back to a character string (we assume utf-8)\n",
    "aes_plaintext = aes_plaintext_bytes.decode('utf-8')\n",
    "\n",
    "print(f\"Decrypted AES plaintext: {aes_plaintext}\")"
   ]
  },
  {
   "cell_type": "code",
   "execution_count": null,
   "metadata": {},
   "outputs": [],
   "source": [
    "    "
   ]
  }
 ],
 "metadata": {
  "kernelspec": {
   "display_name": "qiskit_1.0",
   "language": "python",
   "name": "python3"
  },
  "language_info": {
   "codemirror_mode": {
    "name": "ipython",
    "version": 3
   },
   "file_extension": ".py",
   "mimetype": "text/x-python",
   "name": "python",
   "nbconvert_exporter": "python",
   "pygments_lexer": "ipython3",
   "version": "3.12.4"
  }
 },
 "nbformat": 4,
 "nbformat_minor": 2
}
