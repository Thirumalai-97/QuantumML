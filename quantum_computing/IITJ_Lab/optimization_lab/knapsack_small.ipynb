{
 "cells": [
  {
   "cell_type": "code",
   "execution_count": 1,
   "metadata": {},
   "outputs": [],
   "source": [
    "from qiskit_optimization.applications import Knapsack\n",
    "import pandas as pd\n",
    "\n",
    "from qiskit_optimization.algorithms import MinimumEigenOptimizer\n",
    "from qiskit_algorithms.utils import algorithm_globals\n",
    "from qiskit_algorithms import QAOA, NumPyMinimumEigensolver\n",
    "from qiskit_algorithms.optimizers import COBYLA\n",
    "from qiskit.primitives import Sampler"
   ]
  },
  {
   "cell_type": "code",
   "execution_count": 2,
   "metadata": {},
   "outputs": [],
   "source": [
    "data = pd.read_csv('40points.csv')"
   ]
  },
  {
   "cell_type": "code",
   "execution_count": 3,
   "metadata": {},
   "outputs": [
    {
     "data": {
      "text/html": [
       "<div>\n",
       "<style scoped>\n",
       "    .dataframe tbody tr th:only-of-type {\n",
       "        vertical-align: middle;\n",
       "    }\n",
       "\n",
       "    .dataframe tbody tr th {\n",
       "        vertical-align: top;\n",
       "    }\n",
       "\n",
       "    .dataframe thead th {\n",
       "        text-align: right;\n",
       "    }\n",
       "</style>\n",
       "<table border=\"1\" class=\"dataframe\">\n",
       "  <thead>\n",
       "    <tr style=\"text-align: right;\">\n",
       "      <th></th>\n",
       "      <th>77</th>\n",
       "      <th>95</th>\n",
       "    </tr>\n",
       "  </thead>\n",
       "  <tbody>\n",
       "    <tr>\n",
       "      <th>0</th>\n",
       "      <td>44</td>\n",
       "      <td>70</td>\n",
       "    </tr>\n",
       "    <tr>\n",
       "      <th>1</th>\n",
       "      <td>15</td>\n",
       "      <td>85</td>\n",
       "    </tr>\n",
       "    <tr>\n",
       "      <th>2</th>\n",
       "      <td>67</td>\n",
       "      <td>31</td>\n",
       "    </tr>\n",
       "    <tr>\n",
       "      <th>3</th>\n",
       "      <td>75</td>\n",
       "      <td>10</td>\n",
       "    </tr>\n",
       "    <tr>\n",
       "      <th>4</th>\n",
       "      <td>91</td>\n",
       "      <td>1</td>\n",
       "    </tr>\n",
       "    <tr>\n",
       "      <th>5</th>\n",
       "      <td>2</td>\n",
       "      <td>7</td>\n",
       "    </tr>\n",
       "    <tr>\n",
       "      <th>6</th>\n",
       "      <td>46</td>\n",
       "      <td>53</td>\n",
       "    </tr>\n",
       "    <tr>\n",
       "      <th>7</th>\n",
       "      <td>16</td>\n",
       "      <td>35</td>\n",
       "    </tr>\n",
       "    <tr>\n",
       "      <th>8</th>\n",
       "      <td>68</td>\n",
       "      <td>11</td>\n",
       "    </tr>\n",
       "    <tr>\n",
       "      <th>9</th>\n",
       "      <td>74</td>\n",
       "      <td>91</td>\n",
       "    </tr>\n",
       "    <tr>\n",
       "      <th>10</th>\n",
       "      <td>43</td>\n",
       "      <td>72</td>\n",
       "    </tr>\n",
       "    <tr>\n",
       "      <th>11</th>\n",
       "      <td>14</td>\n",
       "      <td>83</td>\n",
       "    </tr>\n",
       "    <tr>\n",
       "      <th>12</th>\n",
       "      <td>64</td>\n",
       "      <td>34</td>\n",
       "    </tr>\n",
       "    <tr>\n",
       "      <th>13</th>\n",
       "      <td>73</td>\n",
       "      <td>10</td>\n",
       "    </tr>\n",
       "  </tbody>\n",
       "</table>\n",
       "</div>"
      ],
      "text/plain": [
       "    77  95\n",
       "0   44  70\n",
       "1   15  85\n",
       "2   67  31\n",
       "3   75  10\n",
       "4   91   1\n",
       "5    2   7\n",
       "6   46  53\n",
       "7   16  35\n",
       "8   68  11\n",
       "9   74  91\n",
       "10  43  72\n",
       "11  14  83\n",
       "12  64  34\n",
       "13  73  10"
      ]
     },
     "execution_count": 3,
     "metadata": {},
     "output_type": "execute_result"
    }
   ],
   "source": [
    "data"
   ]
  },
  {
   "cell_type": "code",
   "execution_count": 4,
   "metadata": {},
   "outputs": [],
   "source": [
    "values = data.iloc[:,0]\n",
    "weights = data.iloc[:,1]\n",
    "max_weight = int(0.7 * sum(weights))"
   ]
  },
  {
   "cell_type": "code",
   "execution_count": 5,
   "metadata": {},
   "outputs": [
    {
     "data": {
      "text/plain": [
       "0     44\n",
       "1     15\n",
       "2     67\n",
       "3     75\n",
       "4     91\n",
       "5      2\n",
       "6     46\n",
       "7     16\n",
       "8     68\n",
       "9     74\n",
       "10    43\n",
       "11    14\n",
       "12    64\n",
       "13    73\n",
       "Name: 77, dtype: int64"
      ]
     },
     "execution_count": 5,
     "metadata": {},
     "output_type": "execute_result"
    }
   ],
   "source": [
    "values"
   ]
  },
  {
   "cell_type": "code",
   "execution_count": 6,
   "metadata": {},
   "outputs": [
    {
     "data": {
      "text/plain": [
       "593"
      ]
     },
     "execution_count": 6,
     "metadata": {},
     "output_type": "execute_result"
    }
   ],
   "source": [
    "sum( weights)"
   ]
  },
  {
   "cell_type": "code",
   "execution_count": 7,
   "metadata": {},
   "outputs": [],
   "source": [
    "# print(f'values = {values}, weights={weights},max_weight={max_weight}')\n"
   ]
  },
  {
   "cell_type": "code",
   "execution_count": 8,
   "metadata": {},
   "outputs": [
    {
     "name": "stdout",
     "output_type": "stream",
     "text": [
      "Problem name: Knapsack\n",
      "\n",
      "Maximize\n",
      "  44*x_0 + 15*x_1 + 43*x_10 + 14*x_11 + 64*x_12 + 73*x_13 + 67*x_2 + 75*x_3\n",
      "  + 91*x_4 + 2*x_5 + 46*x_6 + 16*x_7 + 68*x_8 + 74*x_9\n",
      "\n",
      "Subject to\n",
      "  Linear constraints (1)\n",
      "    70*x_0 + 85*x_1 + 72*x_10 + 83*x_11 + 34*x_12 + 10*x_13 + 31*x_2 + 10*x_3\n",
      "    + x_4 + 7*x_5 + 53*x_6 + 35*x_7 + 11*x_8 + 91*x_9 <= 415  'c0'\n",
      "\n",
      "  Binary variables (14)\n",
      "    x_0 x_1 x_2 x_3 x_4 x_5 x_6 x_7 x_8 x_9 x_10 x_11 x_12 x_13\n",
      "\n"
     ]
    }
   ],
   "source": [
    "prob = Knapsack(values=values, weights=weights, max_weight=max_weight)\n",
    "qp = prob.to_quadratic_program()\n",
    "print(qp.prettyprint())"
   ]
  },
  {
   "cell_type": "code",
   "execution_count": 9,
   "metadata": {},
   "outputs": [],
   "source": [
    "from qiskit_optimization.algorithms import MinimumEigenOptimizer"
   ]
  },
  {
   "cell_type": "code",
   "execution_count": 10,
   "metadata": {},
   "outputs": [
    {
     "name": "stdout",
     "output_type": "stream",
     "text": [
      "objective function value: 647.0\n",
      "variable values: x_0=1.0, x_1=0.0, x_2=1.0, x_3=1.0, x_4=1.0, x_5=1.0, x_6=1.0, x_7=0.0, x_8=1.0, x_9=1.0, x_10=1.0, x_11=0.0, x_12=1.0, x_13=1.0\n",
      "status: SUCCESS\n",
      "\n",
      "solution: [0, 2, 3, 4, 5, 6, 8, 9, 10, 12, 13]\n"
     ]
    }
   ],
   "source": [
    "# Numpy Eigensolver\n",
    "meo = MinimumEigenOptimizer(min_eigen_solver=NumPyMinimumEigensolver())\n",
    "result = meo.solve(qp)\n",
    "print(result.prettyprint())\n",
    "print(\"\\nsolution:\", prob.interpret(result))"
   ]
  },
  {
   "cell_type": "code",
   "execution_count": 11,
   "metadata": {},
   "outputs": [],
   "source": [
    "from qiskit_algorithms import QAOA\n"
   ]
  },
  {
   "cell_type": "code",
   "execution_count": null,
   "metadata": {},
   "outputs": [],
   "source": [
    "# QAOA\n",
    "meo = MinimumEigenOptimizer(min_eigen_solver=QAOA(reps=1, sampler=Sampler(), optimizer=COBYLA()))\n",
    "result = meo.solve(qp)\n",
    "print(result.prettyprint())\n",
    "print(\"\\nsolution:\", prob.interpret(result))\n",
    "print(\"\\ntime:\", result.min_eigen_solver_result.optimizer_time)"
   ]
  },
  {
   "cell_type": "code",
   "execution_count": null,
   "metadata": {},
   "outputs": [],
   "source": [
    "from qiskit_optimization.converters import QuadraticProgramToQubo\n"
   ]
  },
  {
   "cell_type": "code",
   "execution_count": null,
   "metadata": {},
   "outputs": [],
   "source": [
    "# the same knapsack problem instance as in the previous section\n",
    "prob = Knapsack(values=values, weights=weights, max_weight=max_weight)\n",
    "qp = prob.to_quadratic_program()\n",
    "print(qp.prettyprint())"
   ]
  },
  {
   "cell_type": "code",
   "execution_count": null,
   "metadata": {},
   "outputs": [],
   "source": [
    "# intermediate QUBO form of the optimization problem\n",
    "conv = QuadraticProgramToQubo()\n",
    "qubo = conv.convert(qp)\n",
    "print(qubo.prettyprint())"
   ]
  },
  {
   "cell_type": "code",
   "execution_count": null,
   "metadata": {},
   "outputs": [],
   "source": [
    "# qubit Hamiltonian and offset\n",
    "op, offset = qubo.to_ising()\n",
    "print(f\"num qubits: {op.num_qubits}, offset: {offset}\\n\")\n",
    "print(op)"
   ]
  },
  {
   "cell_type": "code",
   "execution_count": null,
   "metadata": {},
   "outputs": [],
   "source": []
  }
 ],
 "metadata": {
  "kernelspec": {
   "display_name": "qiskit_1.0",
   "language": "python",
   "name": "python3"
  },
  "language_info": {
   "codemirror_mode": {
    "name": "ipython",
    "version": 3
   },
   "file_extension": ".py",
   "mimetype": "text/x-python",
   "name": "python",
   "nbconvert_exporter": "python",
   "pygments_lexer": "ipython3",
   "version": "3.12.4"
  }
 },
 "nbformat": 4,
 "nbformat_minor": 2
}
