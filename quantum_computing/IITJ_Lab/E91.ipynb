{
 "cells": [
  {
   "cell_type": "code",
   "execution_count": 1,
   "metadata": {},
   "outputs": [],
   "source": [
    "import cirq\n",
    "import random\n"
   ]
  },
  {
   "cell_type": "code",
   "execution_count": 2,
   "metadata": {},
   "outputs": [],
   "source": [
    "\n",
    "def prepare_entangled_pair():\n",
    "    \"\"\"Create an entangled Bell state (|Φ+⟩).\"\"\"\n",
    "    qubit_a = cirq.NamedQubit(\"Alice\")\n",
    "    qubit_b = cirq.NamedQubit(\"Bob\")\n",
    "    circuit = cirq.Circuit()\n",
    "    circuit.append(cirq.H(qubit_a))  # Apply Hadamard to Alice's qubit\n",
    "    circuit.append(cirq.CNOT(qubit_a, qubit_b))  # Entangle qubits\n",
    "    return qubit_a, qubit_b, circuit\n"
   ]
  },
  {
   "cell_type": "code",
   "execution_count": 3,
   "metadata": {},
   "outputs": [],
   "source": [
    "def measure_in_basis(circuit, qubit, basis, key_name):\n",
    "    \"\"\"Add measurement in the specified basis to the circuit.\"\"\"\n",
    "    if basis == 'X':  # For X-basis, apply Hadamard before measuring\n",
    "        circuit.append(cirq.H(qubit))\n",
    "    circuit.append(cirq.measure(qubit, key=key_name))\n"
   ]
  },
  {
   "cell_type": "code",
   "execution_count": 4,
   "metadata": {},
   "outputs": [],
   "source": [
    "\n",
    "def e91_protocol(num_bits):\n",
    "    alice_bases = []\n",
    "    bob_bases = []\n",
    "    alice_results = []\n",
    "    bob_results = []\n",
    "    shared_key = []\n",
    "\n",
    "    simulator = cirq.Simulator()\n",
    "\n",
    "    for _ in range(num_bits):\n",
    "        # Step 1: Prepare entangled pair\n",
    "        qubit_a, qubit_b, circuit = prepare_entangled_pair()\n",
    "\n",
    "        # Step 2: Randomly choose measurement bases for Alice and Bob\n",
    "        alice_basis = random.choice(['Z', 'X'])\n",
    "        bob_basis = random.choice(['Z', 'X'])\n",
    "\n",
    "        alice_bases.append(alice_basis)\n",
    "        bob_bases.append(bob_basis)\n",
    "\n",
    "        # Step 3: Add measurements to the circuit\n",
    "        measure_in_basis(circuit, qubit_a, alice_basis, \"alice\")\n",
    "        measure_in_basis(circuit, qubit_b, bob_basis, \"bob\")\n",
    "\n",
    "        # Step 4: Simulate the circuit\n",
    "        results = simulator.run(circuit)\n",
    "        alice_result = int(results.measurements['alice'][0][0])\n",
    "        bob_result = int(results.measurements['bob'][0][0])\n",
    "\n",
    "        alice_results.append(alice_result)\n",
    "        bob_results.append(bob_result)\n",
    "\n",
    "        # Step 5: Key sifting - only keep results when Alice and Bob chose the same basis\n",
    "        if alice_basis == bob_basis:\n",
    "            shared_key.append(alice_result)\n",
    "\n",
    "    return alice_bases, bob_bases, alice_results, bob_results, shared_key\n"
   ]
  },
  {
   "cell_type": "code",
   "execution_count": 5,
   "metadata": {},
   "outputs": [],
   "source": [
    "num_bits = 10\n",
    "alice_bases, bob_bases, alice_results, bob_results, shared_key = e91_protocol(num_bits)\n"
   ]
  },
  {
   "cell_type": "code",
   "execution_count": 6,
   "metadata": {},
   "outputs": [
    {
     "name": "stdout",
     "output_type": "stream",
     "text": [
      "Alice's bases:     ['X', 'Z', 'Z', 'X', 'Z', 'Z', 'Z', 'Z', 'Z', 'X']\n",
      "Bob's bases:       ['Z', 'X', 'X', 'Z', 'Z', 'X', 'X', 'Z', 'Z', 'X']\n",
      "Alice's results:   [1, 1, 1, 1, 1, 1, 0, 0, 1, 1]\n",
      "Bob's results:     [0, 0, 1, 1, 1, 1, 1, 0, 1, 1]\n",
      "Shared key:        [1, 0, 1, 1]\n"
     ]
    }
   ],
   "source": [
    "\n",
    "print(\"Alice's bases:    \", alice_bases)\n",
    "print(\"Bob's bases:      \", bob_bases)\n",
    "print(\"Alice's results:  \", alice_results)\n",
    "print(\"Bob's results:    \", bob_results)\n",
    "print(\"Shared key:       \", shared_key)"
   ]
  }
 ],
 "metadata": {
  "kernelspec": {
   "display_name": "qiskit_1.0",
   "language": "python",
   "name": "python3"
  },
  "language_info": {
   "codemirror_mode": {
    "name": "ipython",
    "version": 3
   },
   "file_extension": ".py",
   "mimetype": "text/x-python",
   "name": "python",
   "nbconvert_exporter": "python",
   "pygments_lexer": "ipython3",
   "version": "3.12.4"
  }
 },
 "nbformat": 4,
 "nbformat_minor": 2
}
