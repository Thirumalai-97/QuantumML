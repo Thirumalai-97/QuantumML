{
 "cells": [
  {
   "cell_type": "code",
   "execution_count": 2,
   "metadata": {},
   "outputs": [],
   "source": [
    "from qiskit import QuantumCircuit\n",
    "from qiskit.visualization import plot_histogram"
   ]
  },
  {
   "cell_type": "code",
   "execution_count": 3,
   "metadata": {},
   "outputs": [],
   "source": [
    "# Define the oracle for the Deutsch algorithm (constant or balanced function)\n",
    "def deutsch_oracle(qc, case='constant'):\n",
    "    if case == 'constant':\n",
    "        # Constant function: U_f does nothing (identity)\n",
    "        pass\n",
    "    elif case == 'balanced':\n",
    "        # Balanced function: Apply a CNOT gate\n",
    "        qc.cx(0, 1)\n"
   ]
  },
  {
   "cell_type": "code",
   "execution_count": 6,
   "metadata": {},
   "outputs": [
    {
     "data": {
      "image/png": "[encoded data removed]",
      "text/plain": [
       "<Figure size 370.906x284.278 with 1 Axes>"
      ]
     },
     "execution_count": 6,
     "metadata": {},
     "output_type": "execute_result"
    }
   ],
   "source": [
    "# Create the quantum circuit with 2 qubits and 1 classical bit\n",
    "qc = QuantumCircuit(2, 1)\n",
    "\n",
    "# Step 1: Apply Hadamard gate to both qubits\n",
    "qc.h(0)\n",
    "qc.x(1)\n",
    "# Step 2: Apply the Deutsch oracle (choose 'constant' or 'balanced')\n",
    "deutsch_oracle(qc, case='balanced')  # Change to 'constant' to test constant function\n",
    "\n",
    "# Step 3: Apply another Hadamard gate to the first qubit\n",
    "qc.h(0)\n",
    "\n",
    "\n",
    "\n",
    "\n",
    "# Visualize the circuit\n",
    "qc.draw('mpl')"
   ]
  },
  {
   "cell_type": "code",
   "execution_count": null,
   "metadata": {},
   "outputs": [],
   "source": [
    "from qiskit import *"
   ]
  },
  {
   "cell_type": "code",
   "execution_count": null,
   "metadata": {},
   "outputs": [],
   "source": [
    "circuit = QuantumCircuit(2,2)\n",
    "ciruit.x(0)\n",
    "circuit.h(3)\n",
    "circuit.cx(0.1\n",
    ")"
   ]
  }
 ],
 "metadata": {
  "kernelspec": {
   "display_name": "qiskit_1.0",
   "language": "python",
   "name": "python3"
  },
  "language_info": {
   "codemirror_mode": {
    "name": "ipython",
    "version": 3
   },
   "file_extension": ".py",
   "mimetype": "text/x-python",
   "name": "python",
   "nbconvert_exporter": "python",
   "pygments_lexer": "ipython3",
   "version": "3.12.4"
  }
 },
 "nbformat": 4,
 "nbformat_minor": 2
}
