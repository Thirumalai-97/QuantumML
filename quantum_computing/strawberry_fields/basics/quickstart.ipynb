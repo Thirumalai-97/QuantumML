{
 "cells": [
  {
   "cell_type": "code",
   "execution_count": 5,
   "metadata": {},
   "outputs": [],
   "source": [
    "import strawberryfields as sf\n",
    "from strawberryfields import ops"
   ]
  },
  {
   "cell_type": "markdown",
   "metadata": {},
   "source": [
    "### create a 3-mode quantum program"
   ]
  },
  {
   "cell_type": "code",
   "execution_count": 8,
   "metadata": {},
   "outputs": [],
   "source": [
    "prog = sf.Program(3)"
   ]
  },
  {
   "cell_type": "markdown",
   "metadata": {},
   "source": [
    "class Sgate(r, phi=0.0)\n",
    "Bases: strawberryfields.ops.Gate\n",
    "\n",
    "Phase space squeezing gate.\n",
    "\n",
    "𝑆(𝑧)=exp(1/2(𝑧∗𝑎^2−𝑧𝑎†^2))\n",
    "where 𝑧=𝑟𝑒𝑖𝜙.\n",
    "\n",
    "Parameters\n",
    "r (float) – squeezing amount\n",
    "\n",
    "phi (float) – squeezing phase angle 𝜙\n",
    "\n",
    "\n",
    "class BSgate(theta=pi/4, phi=0.)\n",
    "Bases: strawberryfields.ops.Gate\n",
    "\n",
    "Beamsplitter gate.\n",
    "\n",
    "𝐵(𝜃,𝜙)=exp(𝜃(𝑒^𝑖𝜙(𝑎1𝑎†2)−𝑒^−𝑖𝜙(𝑎†1𝑎2)))\n",
    "Parameters\n",
    "theta (float) – Transmittivity angle 𝜃. The transmission amplitude of the beamsplitter is 𝑡=cos(𝜃). The value 𝜃=𝜋/4 gives the 50-50 beamsplitter (default).\n",
    "\n",
    "phi (float) – Phase angle 𝜙. The reflection amplitude of the beamsplitter is 𝑟=𝑒𝑖𝜙sin(𝜃). The value 𝜙=𝜋/2 gives the symmetric beamsplitter."
   ]
  },
  {
   "cell_type": "code",
   "execution_count": 9,
   "metadata": {},
   "outputs": [],
   "source": [
    "with prog.context as q:\n",
    "    ops.Sgate(0.54) | q[0]\n",
    "    ops.Sgate(0.54) | q[1]\n",
    "    ops.Sgate(0.54) | q[2]\n",
    "    ops.BSgate(0.43, 0.1) | (q[0], q[2])\n",
    "    ops.BSgate(0.43, 0.1) | (q[1], q[2])\n",
    "    ops.MeasureFock() | q"
   ]
  },
  {
   "cell_type": "code",
   "execution_count": 10,
   "metadata": {},
   "outputs": [],
   "source": [
    "# initialize the fock backend with a\n",
    "# Fock cutoff dimension (truncation) of 5\n",
    "eng = sf.Engine(\"fock\", backend_options={\"cutoff_dim\": 5})"
   ]
  },
  {
   "cell_type": "code",
   "execution_count": 11,
   "metadata": {},
   "outputs": [],
   "source": [
    "result = eng.run(prog)"
   ]
  },
  {
   "cell_type": "code",
   "execution_count": 12,
   "metadata": {},
   "outputs": [
    {
     "name": "stdout",
     "output_type": "stream",
     "text": [
      "<FockState: num_modes=3, cutoff=5, pure=True, hbar=2>\n"
     ]
    }
   ],
   "source": [
    "print(result.state)"
   ]
  },
  {
   "cell_type": "code",
   "execution_count": 17,
   "metadata": {},
   "outputs": [
    {
     "data": {
      "text/plain": [
       "np.float64(1.0)"
      ]
     },
     "execution_count": 17,
     "metadata": {},
     "output_type": "execute_result"
    }
   ],
   "source": [
    "state = result.state\n",
    "state.trace()# trace of the quantum state"
   ]
  },
  {
   "cell_type": "code",
   "execution_count": 18,
   "metadata": {},
   "outputs": [
    {
     "data": {
      "text/plain": [
       "(5, 5, 5, 5, 5, 5)"
      ]
     },
     "execution_count": 18,
     "metadata": {},
     "output_type": "execute_result"
    }
   ],
   "source": [
    "state.dm().shape # density matrix"
   ]
  },
  {
   "cell_type": "markdown",
   "metadata": {},
   "source": [
    "Measured modes will always be returned to the vacuum state.\n",
    "\n"
   ]
  },
  {
   "cell_type": "code",
   "execution_count": 20,
   "metadata": {},
   "outputs": [
    {
     "data": {
      "text/plain": [
       "array([[0, 0, 0]])"
      ]
     },
     "execution_count": 20,
     "metadata": {},
     "output_type": "execute_result"
    }
   ],
   "source": [
    "result.samples"
   ]
  }
 ],
 "metadata": {
  "kernelspec": {
   "display_name": "boson",
   "language": "python",
   "name": "python3"
  },
  "language_info": {
   "codemirror_mode": {
    "name": "ipython",
    "version": 3
   },
   "file_extension": ".py",
   "mimetype": "text/x-python",
   "name": "python",
   "nbconvert_exporter": "python",
   "pygments_lexer": "ipython3",
   "version": "3.12.4"
  }
 },
 "nbformat": 4,
 "nbformat_minor": 2
}
