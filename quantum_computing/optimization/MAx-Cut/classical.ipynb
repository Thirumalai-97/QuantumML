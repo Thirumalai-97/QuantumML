{
 "cells": [
  {
   "cell_type": "code",
   "execution_count": 1,
   "metadata": {},
   "outputs": [],
   "source": [
    "import numpy as np\n",
    "\n",
    "from ortools.graph.python import max_flow"
   ]
  },
  {
   "cell_type": "code",
   "execution_count": 2,
   "metadata": {},
   "outputs": [],
   "source": [
    "# Instantiate a SimpleMaxFlow solver.\n",
    "smf = max_flow.SimpleMaxFlow()"
   ]
  },
  {
   "cell_type": "code",
   "execution_count": 3,
   "metadata": {},
   "outputs": [],
   "source": [
    "# Define three parallel arrays: start_nodes, end_nodes, and the capacities\n",
    "# between each pair. For instance, the arc from node 0 to node 1 has a\n",
    "# capacity of 20.\n",
    "start_nodes = np.array([0, 0, 0, 1, 1, 2, 2, 3, 3])\n",
    "end_nodes = np.array([1, 2, 3, 2, 4, 3, 4, 2, 4])\n",
    "capacities = np.array([20, 30, 10, 40, 30, 10, 20, 5, 20])"
   ]
  },
  {
   "cell_type": "code",
   "execution_count": 4,
   "metadata": {},
   "outputs": [],
   "source": [
    "# Add arcs in bulk.\n",
    "#   note: we could have used add_arc_with_capacity(start, end, capacity)\n",
    "all_arcs = smf.add_arcs_with_capacity(start_nodes, end_nodes, capacities)"
   ]
  },
  {
   "cell_type": "code",
   "execution_count": 5,
   "metadata": {},
   "outputs": [],
   "source": [
    "# Find the maximum flow between node 0 and node 4.\n",
    "status = smf.solve(0, 4)"
   ]
  },
  {
   "cell_type": "code",
   "execution_count": 6,
   "metadata": {},
   "outputs": [
    {
     "name": "stdout",
     "output_type": "stream",
     "text": [
      "Max flow: 60\n",
      "\n",
      " Arc    Flow / Capacity\n",
      "0 / 1    20  /  20\n",
      "0 / 2    30  /  30\n",
      "0 / 3    10  /  10\n",
      "1 / 2     0  /  40\n",
      "1 / 4    20  /  30\n",
      "2 / 3    10  /  10\n",
      "2 / 4    20  /  20\n",
      "3 / 2     0  /   5\n",
      "3 / 4    20  /  20\n",
      "Source side min-cut: [0]\n",
      "Sink side min-cut: [4, 1]\n"
     ]
    }
   ],
   "source": [
    "if status != smf.OPTIMAL:\n",
    "    print(\"There was an issue with the max flow input.\")\n",
    "    print(f\"Status: {status}\")\n",
    "    exit(1)\n",
    "print(\"Max flow:\", smf.optimal_flow())\n",
    "print(\"\")\n",
    "print(\" Arc    Flow / Capacity\")\n",
    "solution_flows = smf.flows(all_arcs)\n",
    "for arc, flow, capacity in zip(all_arcs, solution_flows, capacities):\n",
    "    print(f\"{smf.tail(arc)} / {smf.head(arc)}   {flow:3}  / {capacity:3}\")\n",
    "print(\"Source side min-cut:\", smf.get_source_side_min_cut())\n",
    "print(\"Sink side min-cut:\", smf.get_sink_side_min_cut())"
   ]
  },
  {
   "cell_type": "code",
   "execution_count": null,
   "metadata": {},
   "outputs": [],
   "source": []
  }
 ],
 "metadata": {
  "kernelspec": {
   "display_name": "google",
   "language": "python",
   "name": "python3"
  },
  "language_info": {
   "codemirror_mode": {
    "name": "ipython",
    "version": 3
   },
   "file_extension": ".py",
   "mimetype": "text/x-python",
   "name": "python",
   "nbconvert_exporter": "python",
   "pygments_lexer": "ipython3",
   "version": "3.12.5"
  }
 },
 "nbformat": 4,
 "nbformat_minor": 2
}
